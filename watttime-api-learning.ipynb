{
 "cells": [
  {
   "cell_type": "markdown",
   "metadata": {},
   "source": [
    "I'm  using this Jupyter notebook to learn how to use the [Open plan of the WattTime API](https://api.watttime.org/plans/).  At first, I thought that I could make use of [WattTime/watttime-python-client: Python client library for the WattTime API](https://github.com/WattTime/watttime-python-client) for this purpose but then learned that this Python library is designed for users of the Pro plan.  Some of the code here could possibly be integrated into the `watttime-python-client`.\n",
    "\n",
    "**Note: some cell outputs with data coming from the API have been cleared**"
   ]
  },
  {
   "cell_type": "code",
   "execution_count": 1,
   "metadata": {
    "collapsed": false
   },
   "outputs": [
    {
     "name": "stderr",
     "output_type": "stream",
     "text": [
      "/Users/raymondyee/anaconda/envs/myenv/lib/python2.7/site-packages/matplotlib/font_manager.py:273: UserWarning: Matplotlib is building the font cache using fc-list. This may take a moment.\n",
      "  warnings.warn('Matplotlib is building the font cache using fc-list. This may take a moment.')\n"
     ]
    }
   ],
   "source": [
    "%matplotlib inline"
   ]
  },
  {
   "cell_type": "code",
   "execution_count": 2,
   "metadata": {
    "collapsed": false
   },
   "outputs": [],
   "source": [
    "# storing credentials in settings.py\n",
    "\n",
    "from settings import (WATTTIME_API_TOKEN, WATTTIME_USER, WATTTIME_PASSWORD)\n",
    "\n",
    "import os\n",
    "import requests\n",
    "import arrow, datetime\n",
    "\n",
    "import numpy as np\n",
    "import datetime as dt\n",
    "import time\n",
    "\n",
    "import matplotlib.pyplot as plt\n",
    "import matplotlib.dates as md\n",
    "\n",
    "import numpy as np\n",
    "import pandas as pd\n",
    "from pandas import DataFrame, Series\n",
    "\n",
    "# starter code for a database to cache Watttime data\n",
    "# I'm in the process of figuring out the relevant term of services for caching such data\n",
    "\n",
    "import watttime_db"
   ]
  },
  {
   "cell_type": "markdown",
   "metadata": {},
   "source": [
    "# obtaining token\n",
    "\n",
    "To use the Watttime API, one needs to obtain a token"
   ]
  },
  {
   "cell_type": "code",
   "execution_count": 3,
   "metadata": {
    "collapsed": false
   },
   "outputs": [
    {
     "data": {
      "text/plain": [
       "True"
      ]
     },
     "execution_count": 3,
     "metadata": {},
     "output_type": "execute_result"
    }
   ],
   "source": [
    "# must make a call to https://api.watttime.org/api/v1/obtain-token-auth/\n",
    "\n",
    "import urlparse\n",
    "\n",
    "def obtain_token(username, password):\n",
    "    \n",
    "    base_url = 'https://api.watttime.org'\n",
    "    endpoint = urlparse.urljoin(base_url, '/api/v1/obtain-token-auth/')\n",
    "    \n",
    "    payload = {'username': username, \n",
    "               'password': password\n",
    "             }\n",
    "\n",
    "    result = requests.post(endpoint, data=payload)\n",
    "    return result.json()\n",
    "\n",
    "# confirm that the procedure used to convert username/password to token is the same as WATTTIME_API_TOKEN\n",
    "\n",
    "( obtain_token(WATTTIME_USER, WATTTIME_PASSWORD).get('token')\n",
    "  ==\n",
    "  WATTTIME_API_TOKEN\n",
    ")"
   ]
  },
  {
   "cell_type": "markdown",
   "metadata": {},
   "source": [
    "# validating token"
   ]
  },
  {
   "cell_type": "code",
   "execution_count": 4,
   "metadata": {
    "collapsed": true
   },
   "outputs": [],
   "source": [
    "# one way of testing whether a given token is ok\n",
    "\n",
    "def validate_token (token):\n",
    "    \n",
    "    base_url = 'https://api.watttime.org'\n",
    "    endpoint = urlparse.urljoin(base_url, '/api/v1/datapoints/')\n",
    "    \n",
    "    headers = {\n",
    "        'Authorization': 'Token {}'.format(token)\n",
    "    }\n",
    "    \n",
    "    result = requests.head(endpoint, headers=headers)\n",
    "    return result.status_code == 200\n"
   ]
  },
  {
   "cell_type": "code",
   "execution_count": 5,
   "metadata": {
    "collapsed": false
   },
   "outputs": [
    {
     "data": {
      "text/plain": [
       "True"
      ]
     },
     "execution_count": 5,
     "metadata": {},
     "output_type": "execute_result"
    }
   ],
   "source": [
    "validate_token(WATTTIME_API_TOKEN)"
   ]
  },
  {
   "cell_type": "markdown",
   "metadata": {},
   "source": [
    "# balance authority\n",
    "\n",
    "e.g., https://api.watttime.org/api/v1/balancing_authorities/?loc={\"type\":\"Point\",\"coordinates\":[-122.272778,37.871667]} \n"
   ]
  },
  {
   "cell_type": "code",
   "execution_count": 6,
   "metadata": {
    "collapsed": true
   },
   "outputs": [],
   "source": [
    "import json\n",
    "\n",
    "def balance_authority(lat, lon):\n",
    "    \n",
    "    base_url = 'https://api.watttime.org'\n",
    "    endpoint = urlparse.urljoin(base_url, '/api/v1/balancing_authorities/')\n",
    "    \n",
    "    loc_info = json.dumps({\n",
    "            'type': 'Point',\n",
    "            'coordinates': [lon, lat]\n",
    "        })\n",
    "    \n",
    "    \n",
    "    params = {\n",
    "        'loc': loc_info\n",
    "    }\n",
    "    \n",
    "    result = requests.get(endpoint, params=params)\n",
    "    return result.json()\n"
   ]
  },
  {
   "cell_type": "code",
   "execution_count": 7,
   "metadata": {
    "collapsed": false
   },
   "outputs": [
    {
     "data": {
      "text/plain": [
       "[{u'abbrev': u'CAISO',\n",
       "  u'ba_type': u'ISO',\n",
       "  u'link': u'http://oasis.caiso.com/',\n",
       "  u'name': u'California Independent System Operator',\n",
       "  u'notes': u' ',\n",
       "  u'states': [u'CA'],\n",
       "  u'url': u'https://api.watttime.org/api/v1/balancing_authorities/CAISO/'}]"
      ]
     },
     "execution_count": 7,
     "metadata": {},
     "output_type": "execute_result"
    }
   ],
   "source": [
    "# look up the balance authority for Berkeley, CA\n",
    "\n",
    "balance_authority(lat=37.871667, lon=-122.272778)"
   ]
  },
  {
   "cell_type": "markdown",
   "metadata": {},
   "source": [
    "# generation mix"
   ]
  },
  {
   "cell_type": "markdown",
   "metadata": {},
   "source": [
    "Some documentation:\n",
    "\n",
    "```\n",
    "ba\tAn abbreviation for a balancing authority. Options can be found at the 'balancing_authorities' endpoint. e.g., ba=ISONE\tquery\tstring\n",
    "start_at\t\n",
    "Minimum timestamp (inclusive). e.g., start_at=2014-02-20 or start_at=2014-02-20T16:45:30-0800 or start_at=2014-02-20T16:45:30-08:00\tquery\tstring\n",
    "end_at\t\n",
    "Maximum timestamp (inclusive). e.g., end_at=2014-02-20 or end_at=2014-02-20T16:45:30-0800 or end_at=2014-02-20T16:45:30-08:00\tquery\tstring\n",
    "page_size\t\n",
    "Number of data points to return on each page. default is page_size=100, max is page_size=1000.\tquery\tinteger\n",
    "freq\t\n",
    "Time series frequency. Options are '5m', '10m', '1hr', 'n/a'. e.g., freq=1hr\tquery\tstring\n",
    "market\n",
    "```\n",
    "\n",
    "```\n",
    "ba filters by place (see tutorial)\n",
    "start_at and end_at filter by time (formatted like 2015-10-20T16:45:30-08:00)\n",
    "market filters by data type (use RT5M to get past data from the real-time 5 minute market, or DAHR to get forecasted data from the day-ahead hourly market)\n",
    "page_size sets the number of data points that are returned in a single query\n",
    "\n",
    "```"
   ]
  },
  {
   "cell_type": "code",
   "execution_count": 8,
   "metadata": {
    "collapsed": false
   },
   "outputs": [
    {
     "data": {
      "text/plain": [
       "'2016-12-07T19:55:41.100643+00:00'"
      ]
     },
     "execution_count": 8,
     "metadata": {},
     "output_type": "execute_result"
    }
   ],
   "source": [
    "# display now\n",
    "arrow.get(datetime.datetime.utcnow()).isoformat()"
   ]
  },
  {
   "cell_type": "code",
   "execution_count": 9,
   "metadata": {
    "collapsed": false
   },
   "outputs": [],
   "source": [
    "# example of a raw requestion\n",
    "\n",
    "def filter_dict_None(d):\n",
    "    return dict([(k,v) for (k,v) in d.items() if v is not None])\n",
    "\n",
    "# a first pass at getting the generation mix\n",
    "\n",
    "def generation_mix_0(token, ba, start_at, end_at, page_size=None, market='RT5M', **kwargs):\n",
    "    \"\"\"\n",
    "    * ba filters by place (see tutorial)\n",
    "    * start_at and end_at filter by time (formatted like 2015-10-20T16:45:30-08:00)\n",
    "    * market filters by data type (use RT5M to get past data from the real-time 5 minute market, \n",
    "        or DAHR to get forecasted data from the day-ahead hourly market)\n",
    "    * page_size sets the number of data points that are returned in a single query\n",
    "    \"\"\"\n",
    "    base_url = 'https://api.watttime.org'\n",
    "    url = urlparse.urljoin(base_url, '/api/v1/datapoints/')\n",
    "    \n",
    "    headers = {\n",
    "        'Authorization': 'Token {}'.format(token)\n",
    "    }\n",
    "    \n",
    "    params = filter_dict_None({\n",
    "        'ba': ba,\n",
    "        'start_at': arrow.get(start_at).isoformat(),\n",
    "        'end_at': arrow.get(end_at).isoformat(),\n",
    "        'page_size': page_size,\n",
    "        'market': market\n",
    "    })\n",
    "    \n",
    "\n",
    "    r = requests.get(url, params=params)\n",
    "    return r.json()\n"
   ]
  },
  {
   "cell_type": "code",
   "execution_count": 10,
   "metadata": {
    "collapsed": false
   },
   "outputs": [],
   "source": [
    "import datetime, pytz, arrow\n",
    "\n",
    "now = arrow.utcnow()\n",
    "end_at = now\n",
    "\n",
    "# pick a start time a given time in the past\n",
    "start_at = now.replace(years=-10)\n",
    "\n",
    "r = generation_mix_0(token = WATTTIME_API_TOKEN, ba='CAISO', start_at=start_at, end_at=end_at)\n"
   ]
  },
  {
   "cell_type": "code",
   "execution_count": 11,
   "metadata": {
    "collapsed": false
   },
   "outputs": [
    {
     "data": {
      "text/plain": [
       "(127880,\n",
       " u'https://api.watttime.org/api/v1/datapoints/?ba=CAISO&end_at=2016-12-07T19%3A55%3A41.139084%2B00%3A00&market=RT5M&page=2&start_at=2006-12-07T19%3A55%3A41.139084%2B00%3A00',\n",
       " None)"
      ]
     },
     "execution_count": 11,
     "metadata": {},
     "output_type": "execute_result"
    }
   ],
   "source": [
    "# how many records are there \n",
    "\n",
    "r['count'], r['next'], r['previous']"
   ]
  },
  {
   "cell_type": "markdown",
   "metadata": {},
   "source": [
    "Rewriting method to get generation mix as a generator. "
   ]
  },
  {
   "cell_type": "code",
   "execution_count": 12,
   "metadata": {
    "collapsed": false
   },
   "outputs": [],
   "source": [
    "def generation_mix(token, ba, start_at, end_at, page_size=100, market='RT5M', **kwargs):\n",
    "    \"\"\"\n",
    "    * ba filters by place (see tutorial)\n",
    "    * start_at and end_at filter by time (formatted like 2015-10-20T16:45:30-08:00)\n",
    "    * market filters by data type (use RT5M to get past data from the real-time 5 minute market, \n",
    "        or DAHR to get forecasted data from the day-ahead hourly market)\n",
    "    * page_size sets the number of data points that are returned in a single query\n",
    "    \"\"\"\n",
    "    base_url = 'https://api.watttime.org'\n",
    "    url = urlparse.urljoin(base_url, '/api/v1/datapoints/')\n",
    "    \n",
    "    headers = {\n",
    "        'Authorization': 'Token {}'.format(token)\n",
    "    }\n",
    "    \n",
    "    params = {\n",
    "        'ba': ba,\n",
    "        'start_at': arrow.get(start_at).isoformat(),\n",
    "        'end_at': arrow.get(end_at).isoformat(),\n",
    "        'page_size': page_size,\n",
    "        'market': market\n",
    "    }\n",
    "    \n",
    "    more_pages = True\n",
    "    \n",
    "    while more_pages:\n",
    "    \n",
    "        r = requests.get(url, params=params)\n",
    "        results = r.json()['results']\n",
    "        \n",
    "        for result in results:\n",
    "            yield result\n",
    "        \n",
    "        url = r.json()['next']\n",
    "        more_pages = url is not None\n"
   ]
  },
  {
   "cell_type": "code",
   "execution_count": 13,
   "metadata": {
    "collapsed": false
   },
   "outputs": [],
   "source": [
    "# some number of minutes before to now\n",
    "\n",
    "import datetime, pytz, arrow\n",
    "\n",
    "now = arrow.now()\n",
    "end_at = now\n",
    "start_at = now.replace(minutes=-6000)\n",
    "\n",
    "results = list(generation_mix(token = WATTTIME_API_TOKEN, ba='CAISO', start_at=start_at, end_at=end_at))"
   ]
  },
  {
   "cell_type": "markdown",
   "metadata": {
    "collapsed": false
   },
   "source": [
    "# sidebar: how to use django cache\n",
    "\n",
    "```Python\n",
    "from django.core.cache.backends.locmem import LocMemCache\n",
    "cache = LocMemCache('rycache', {})\n",
    "```"
   ]
  },
  {
   "cell_type": "markdown",
   "metadata": {},
   "source": [
    "# Display CAISO data for a recent range"
   ]
  },
  {
   "cell_type": "code",
   "execution_count": 14,
   "metadata": {
    "collapsed": false
   },
   "outputs": [
    {
     "data": {
      "text/plain": [
       "599"
      ]
     },
     "execution_count": 14,
     "metadata": {},
     "output_type": "execute_result"
    }
   ],
   "source": [
    "# sort the results and display carbon emission rate\n",
    "\n",
    "results = sorted(results, key = lambda s: s['timestamp'], reverse=True)\n",
    "df = DataFrame(\n",
    "    [(arrow.get(result['timestamp']).datetime, result['carbon'])  for result in results],\n",
    "    columns = ['ts', 'carbon']\n",
    ")\n",
    "len(df)"
   ]
  },
  {
   "cell_type": "code",
   "execution_count": null,
   "metadata": {
    "collapsed": false
   },
   "outputs": [],
   "source": [
    "# http://stackoverflow.com/questions/4090383/plotting-unix-timestamps-in-matplotlib\n",
    "\n",
    "plt.subplots_adjust(bottom=0.2)\n",
    "plt.xticks( rotation=25 )\n",
    "ax=plt.gca()\n",
    "xfmt = md.DateFormatter('%Y-%m-%d %H:%M:%S')\n",
    "ax.xaxis.set_major_formatter(xfmt)\n",
    "\n",
    "\n",
    "plt.plot(df['ts'], df['carbon'])"
   ]
  },
  {
   "cell_type": "markdown",
   "metadata": {},
   "source": [
    "# Database\n",
    "\n",
    "I'm experimenting with caching data so that I can do more elaborate analysis"
   ]
  },
  {
   "cell_type": "code",
   "execution_count": 16,
   "metadata": {
    "collapsed": true
   },
   "outputs": [],
   "source": [
    "# initialize\n",
    "\n",
    "db_fname = 'watttime.db'\n",
    "if not os.path.exists(db_fname):\n",
    "    engine = watttime_db.create_tables('watttime.db')"
   ]
  },
  {
   "cell_type": "code",
   "execution_count": 17,
   "metadata": {
    "collapsed": true
   },
   "outputs": [],
   "source": [
    "session = watttime_db.create_session(db_fname)"
   ]
  },
  {
   "cell_type": "code",
   "execution_count": 18,
   "metadata": {
    "collapsed": false
   },
   "outputs": [
    {
     "data": {
      "text/plain": [
       "[<Datapoint(ba='CAISO' timestamp='2016-11-01T16:20:00Z')>,\n",
       " <Datapoint(ba='CAISO' timestamp='2016-11-29T23:10:00Z')>,\n",
       " <Datapoint(ba='CAISO' timestamp='2016-12-07T16:50:00Z')>,\n",
       " <Datapoint(ba='CAISO' timestamp='2016-12-07T18:20:00Z')>,\n",
       " <Datapoint(ba='CAISO' timestamp='2016-12-07T18:40:00Z')>]"
      ]
     },
     "execution_count": 18,
     "metadata": {},
     "output_type": "execute_result"
    }
   ],
   "source": [
    "session.query(watttime_db.Datapoint).all()"
   ]
  },
  {
   "cell_type": "code",
   "execution_count": null,
   "metadata": {
    "collapsed": false
   },
   "outputs": [],
   "source": [
    "# try to store a datapoint\n",
    "\n",
    "result = results[0]\n",
    "result"
   ]
  },
  {
   "cell_type": "code",
   "execution_count": 20,
   "metadata": {
    "collapsed": false
   },
   "outputs": [],
   "source": [
    "import re\n",
    "\n",
    "def datapoint_id_from_url(url):\n",
    "    g = re.search(r'([^\\/]*)\\/?$', url)\n",
    "    if g is not None:\n",
    "        return int(g.group(1))\n",
    "    else:\n",
    "        return None"
   ]
  },
  {
   "cell_type": "code",
   "execution_count": 21,
   "metadata": {
    "collapsed": true
   },
   "outputs": [],
   "source": [
    "dp = watttime_db.Datapoint(\n",
    "    id = datapoint_id_from_url(result['url']),\n",
    "    ba = result['ba'],\n",
    "    carbon = result['carbon'],\n",
    "    created_at = result['created_at'],\n",
    "    freq = result['freq'],\n",
    "    market = result['market'],\n",
    "    timestamp = result['timestamp'],\n",
    "    url = result['url'],\n",
    "    updated=arrow.utcnow().isoformat()\n",
    ")\n",
    "\n",
    "dp.genmixes = [watttime_db.Genmix(\n",
    "   fuel = g['fuel'],\n",
    "   gen_mw = g['gen_MW']\n",
    ") for g in result['genmix']]"
   ]
  },
  {
   "cell_type": "code",
   "execution_count": 22,
   "metadata": {
    "collapsed": false
   },
   "outputs": [],
   "source": [
    "session.add(dp)\n",
    "session.commit()"
   ]
  },
  {
   "cell_type": "markdown",
   "metadata": {},
   "source": [
    "# Watttime client\n",
    "\n",
    "This code will not work for me because I'm on the Open plan not the Pro plan."
   ]
  },
  {
   "cell_type": "code",
   "execution_count": 23,
   "metadata": {
    "collapsed": false
   },
   "outputs": [
    {
     "name": "stderr",
     "output_type": "stream",
     "text": [
      "No handlers could be found for logger \"watttime_client.client\"\n"
     ]
    }
   ],
   "source": [
    "from watttime_client.client import WattTimeAPI\n",
    "mytoken = WATTTIME_API_TOKEN\n",
    "client = WattTimeAPI(token=mytoken)"
   ]
  },
  {
   "cell_type": "code",
   "execution_count": 24,
   "metadata": {
    "collapsed": false
   },
   "outputs": [
    {
     "ename": "KeyError",
     "evalue": "'results'",
     "output_type": "error",
     "traceback": [
      "\u001b[0;31m---------------------------------------------------------------------------\u001b[0m",
      "\u001b[0;31mKeyError\u001b[0m                                  Traceback (most recent call last)",
      "\u001b[0;32m<ipython-input-24-b5e05a20d8f0>\u001b[0m in \u001b[0;36m<module>\u001b[0;34m()\u001b[0m\n\u001b[1;32m      3\u001b[0m \u001b[0;34m\u001b[0m\u001b[0m\n\u001b[1;32m      4\u001b[0m \u001b[0mtimestamp\u001b[0m \u001b[0;34m=\u001b[0m \u001b[0mpytz\u001b[0m\u001b[0;34m.\u001b[0m\u001b[0mutc\u001b[0m\u001b[0;34m.\u001b[0m\u001b[0mlocalize\u001b[0m\u001b[0;34m(\u001b[0m\u001b[0mdatetime\u001b[0m\u001b[0;34m(\u001b[0m\u001b[0;36m2016\u001b[0m\u001b[0;34m,\u001b[0m \u001b[0;36m6\u001b[0m\u001b[0;34m,\u001b[0m \u001b[0;36m1\u001b[0m\u001b[0;34m,\u001b[0m \u001b[0;36m12\u001b[0m\u001b[0;34m,\u001b[0m \u001b[0;36m30\u001b[0m\u001b[0;34m)\u001b[0m\u001b[0;34m)\u001b[0m\u001b[0;34m\u001b[0m\u001b[0m\n\u001b[0;32m----> 5\u001b[0;31m \u001b[0mvalue\u001b[0m \u001b[0;34m=\u001b[0m \u001b[0mclient\u001b[0m\u001b[0;34m.\u001b[0m\u001b[0mget_impact_at\u001b[0m\u001b[0;34m(\u001b[0m\u001b[0mtimestamp\u001b[0m\u001b[0;34m,\u001b[0m \u001b[0;34m'CAISO'\u001b[0m\u001b[0;34m)\u001b[0m\u001b[0;34m\u001b[0m\u001b[0m\n\u001b[0m\u001b[1;32m      6\u001b[0m \u001b[0;34m\u001b[0m\u001b[0m\n\u001b[1;32m      7\u001b[0m \u001b[0;32mprint\u001b[0m\u001b[0;34m(\u001b[0m\u001b[0mvalue\u001b[0m\u001b[0;34m)\u001b[0m\u001b[0;34m\u001b[0m\u001b[0m\n",
      "\u001b[0;32m/Users/raymondyee/anaconda/envs/myenv/lib/python2.7/site-packages/watttime_client-0.1-py2.7.egg/watttime_client/client.pyc\u001b[0m in \u001b[0;36mget_impact_at\u001b[0;34m(self, ts, ba, market)\u001b[0m\n\u001b[1;32m     94\u001b[0m \u001b[0;34m\u001b[0m\u001b[0m\n\u001b[1;32m     95\u001b[0m         \u001b[0;31m# if got here, no good data in cache, so fetch it\u001b[0m\u001b[0;34m\u001b[0m\u001b[0;34m\u001b[0m\u001b[0m\n\u001b[0;32m---> 96\u001b[0;31m         \u001b[0mtimes\u001b[0m\u001b[0;34m,\u001b[0m \u001b[0mvalues\u001b[0m \u001b[0;34m=\u001b[0m \u001b[0mself\u001b[0m\u001b[0;34m.\u001b[0m\u001b[0mfetch\u001b[0m\u001b[0;34m(\u001b[0m\u001b[0mts\u001b[0m \u001b[0;34m-\u001b[0m \u001b[0mtimedelta\u001b[0m\u001b[0;34m(\u001b[0m\u001b[0mhours\u001b[0m\u001b[0;34m=\u001b[0m\u001b[0;36m4\u001b[0m\u001b[0;34m)\u001b[0m\u001b[0;34m,\u001b[0m \u001b[0mts\u001b[0m \u001b[0;34m+\u001b[0m \u001b[0mtimedelta\u001b[0m\u001b[0;34m(\u001b[0m\u001b[0mhours\u001b[0m\u001b[0;34m=\u001b[0m\u001b[0;36m4\u001b[0m\u001b[0;34m)\u001b[0m\u001b[0;34m,\u001b[0m \u001b[0mba\u001b[0m\u001b[0;34m,\u001b[0m \u001b[0mmarket\u001b[0m\u001b[0;34m)\u001b[0m\u001b[0;34m\u001b[0m\u001b[0m\n\u001b[0m\u001b[1;32m     97\u001b[0m \u001b[0;34m\u001b[0m\u001b[0m\n\u001b[1;32m     98\u001b[0m         \u001b[0;31m# best value is latest time before or equal to ts\u001b[0m\u001b[0;34m\u001b[0m\u001b[0;34m\u001b[0m\u001b[0m\n",
      "\u001b[0;32m/Users/raymondyee/anaconda/envs/myenv/lib/python2.7/site-packages/watttime_client-0.1-py2.7.egg/watttime_client/client.pyc\u001b[0m in \u001b[0;36mfetch\u001b[0;34m(self, start_at, end_at, ba, market, **kwargs)\u001b[0m\n\u001b[1;32m     50\u001b[0m         result = requests.get('https://api.watttime.org/api/v1/marginal/',\n\u001b[1;32m     51\u001b[0m                               params=params, headers=self.auth_header)\n\u001b[0;32m---> 52\u001b[0;31m         \u001b[0mdata\u001b[0m \u001b[0;34m=\u001b[0m \u001b[0mresult\u001b[0m\u001b[0;34m.\u001b[0m\u001b[0mjson\u001b[0m\u001b[0;34m(\u001b[0m\u001b[0;34m)\u001b[0m\u001b[0;34m[\u001b[0m\u001b[0;34m'results'\u001b[0m\u001b[0;34m]\u001b[0m\u001b[0;34m\u001b[0m\u001b[0m\n\u001b[0m\u001b[1;32m     53\u001b[0m \u001b[0;34m\u001b[0m\u001b[0m\n\u001b[1;32m     54\u001b[0m         \u001b[0mn_pages\u001b[0m \u001b[0;34m=\u001b[0m \u001b[0;36m1\u001b[0m\u001b[0;34m\u001b[0m\u001b[0m\n",
      "\u001b[0;31mKeyError\u001b[0m: 'results'"
     ]
    }
   ],
   "source": [
    "from datetime import datetime\n",
    "import pytz\n",
    "\n",
    "timestamp = pytz.utc.localize(datetime(2016, 6, 1, 12, 30))\n",
    "value = client.get_impact_at(timestamp, 'CAISO')\n",
    "\n",
    "print(value)"
   ]
  },
  {
   "cell_type": "markdown",
   "metadata": {
    "collapsed": true
   },
   "source": [
    "# pyiso\n",
    "\n",
    "I'm learning that a lot of the action in software development is actually around `pyiso`, a library for directly scraping power grid data sources, including my local ISO: [California Independent System Operator - Wikipedia](https://en.wikipedia.org/wiki/California_Independent_System_Operator).\n",
    "\n",
    "* [Introduction — pyiso 0.3 documentation](https://pyiso.readthedocs.io/en/latest/intro.html)\n",
    "\n",
    "* [WattTime/pyiso: Python client libraries for ISO and other power grid data sources.](https://github.com/WattTime/pyiso)"
   ]
  },
  {
   "cell_type": "code",
   "execution_count": 25,
   "metadata": {
    "collapsed": true
   },
   "outputs": [],
   "source": [
    "from pyiso import client_factory\n",
    "caiso = client_factory('CAISO', timeout_seconds=60)"
   ]
  },
  {
   "cell_type": "code",
   "execution_count": 26,
   "metadata": {
    "collapsed": false
   },
   "outputs": [
    {
     "data": {
      "text/html": [
       "<div>\n",
       "<table border=\"1\" class=\"dataframe\">\n",
       "  <thead>\n",
       "    <tr style=\"text-align: right;\">\n",
       "      <th></th>\n",
       "      <th>ba_name</th>\n",
       "      <th>freq</th>\n",
       "      <th>fuel_name</th>\n",
       "      <th>gen_MW</th>\n",
       "      <th>market</th>\n",
       "      <th>timestamp</th>\n",
       "    </tr>\n",
       "  </thead>\n",
       "  <tbody>\n",
       "    <tr>\n",
       "      <th>0</th>\n",
       "      <td>CAISO</td>\n",
       "      <td>10m</td>\n",
       "      <td>renewable</td>\n",
       "      <td>1606.00</td>\n",
       "      <td>RT5M</td>\n",
       "      <td>2016-12-07 19:50:00+00:00</td>\n",
       "    </tr>\n",
       "    <tr>\n",
       "      <th>1</th>\n",
       "      <td>CAISO</td>\n",
       "      <td>10m</td>\n",
       "      <td>solar</td>\n",
       "      <td>5467.00</td>\n",
       "      <td>RT5M</td>\n",
       "      <td>2016-12-07 19:50:00+00:00</td>\n",
       "    </tr>\n",
       "    <tr>\n",
       "      <th>2</th>\n",
       "      <td>CAISO</td>\n",
       "      <td>10m</td>\n",
       "      <td>wind</td>\n",
       "      <td>131.00</td>\n",
       "      <td>RT5M</td>\n",
       "      <td>2016-12-07 19:50:00+00:00</td>\n",
       "    </tr>\n",
       "    <tr>\n",
       "      <th>3</th>\n",
       "      <td>CAISO</td>\n",
       "      <td>10m</td>\n",
       "      <td>other</td>\n",
       "      <td>30799.99</td>\n",
       "      <td>RT5M</td>\n",
       "      <td>2016-12-07 19:50:00+00:00</td>\n",
       "    </tr>\n",
       "  </tbody>\n",
       "</table>\n",
       "</div>"
      ],
      "text/plain": [
       "  ba_name freq  fuel_name    gen_MW market                 timestamp\n",
       "0   CAISO  10m  renewable   1606.00   RT5M 2016-12-07 19:50:00+00:00\n",
       "1   CAISO  10m      solar   5467.00   RT5M 2016-12-07 19:50:00+00:00\n",
       "2   CAISO  10m       wind    131.00   RT5M 2016-12-07 19:50:00+00:00\n",
       "3   CAISO  10m      other  30799.99   RT5M 2016-12-07 19:50:00+00:00"
      ]
     },
     "execution_count": 26,
     "metadata": {},
     "output_type": "execute_result"
    }
   ],
   "source": [
    "data = caiso.get_generation(latest=True)\n",
    "df = DataFrame(data)\n",
    "df.head()"
   ]
  },
  {
   "cell_type": "markdown",
   "metadata": {},
   "source": [
    "study the `get_generation` method for CAISO specifically. \n",
    "\n",
    "* [pyiso/caiso.py at 1a5334056d32ded43ce3797b5c5d7168c4d0c90f · WattTime/pyiso](https://github.com/WattTime/pyiso/blob/1a5334056d32ded43ce3797b5c5d7168c4d0c90f/pyiso/caiso.py#L89-L100)\n",
    "* https://hyp.is/bMOFXrywEeaYU5vQBBnQ7Q/pyiso.readthedocs.io/en/latest/options.html:  yes to all of \n",
    "   * latest\t\n",
    "   * start_at / end_at\n",
    "   * yesterday\t\n",
    "   * forecast ok"
   ]
  },
  {
   "cell_type": "code",
   "execution_count": 27,
   "metadata": {
    "collapsed": false
   },
   "outputs": [
    {
     "data": {
      "text/html": [
       "<div>\n",
       "<table border=\"1\" class=\"dataframe\">\n",
       "  <thead>\n",
       "    <tr style=\"text-align: right;\">\n",
       "      <th></th>\n",
       "      <th>ba_name</th>\n",
       "      <th>freq</th>\n",
       "      <th>fuel_name</th>\n",
       "      <th>gen_MW</th>\n",
       "      <th>market</th>\n",
       "      <th>timestamp</th>\n",
       "    </tr>\n",
       "  </thead>\n",
       "  <tbody>\n",
       "    <tr>\n",
       "      <th>0</th>\n",
       "      <td>CAISO</td>\n",
       "      <td>1hr</td>\n",
       "      <td>wind</td>\n",
       "      <td>352.05</td>\n",
       "      <td>DAHR</td>\n",
       "      <td>2016-12-07 15:00:00+00:00</td>\n",
       "    </tr>\n",
       "    <tr>\n",
       "      <th>1</th>\n",
       "      <td>CAISO</td>\n",
       "      <td>1hr</td>\n",
       "      <td>solar</td>\n",
       "      <td>1248.94</td>\n",
       "      <td>DAHR</td>\n",
       "      <td>2016-12-07 15:00:00+00:00</td>\n",
       "    </tr>\n",
       "    <tr>\n",
       "      <th>2</th>\n",
       "      <td>CAISO</td>\n",
       "      <td>1hr</td>\n",
       "      <td>wind</td>\n",
       "      <td>337.11</td>\n",
       "      <td>DAHR</td>\n",
       "      <td>2016-12-07 18:00:00+00:00</td>\n",
       "    </tr>\n",
       "    <tr>\n",
       "      <th>3</th>\n",
       "      <td>CAISO</td>\n",
       "      <td>1hr</td>\n",
       "      <td>solar</td>\n",
       "      <td>5557.67</td>\n",
       "      <td>DAHR</td>\n",
       "      <td>2016-12-07 18:00:00+00:00</td>\n",
       "    </tr>\n",
       "    <tr>\n",
       "      <th>4</th>\n",
       "      <td>CAISO</td>\n",
       "      <td>1hr</td>\n",
       "      <td>wind</td>\n",
       "      <td>357.46</td>\n",
       "      <td>DAHR</td>\n",
       "      <td>2016-12-07 17:00:00+00:00</td>\n",
       "    </tr>\n",
       "  </tbody>\n",
       "</table>\n",
       "</div>"
      ],
      "text/plain": [
       "  ba_name freq fuel_name   gen_MW market                 timestamp\n",
       "0   CAISO  1hr      wind   352.05   DAHR 2016-12-07 15:00:00+00:00\n",
       "1   CAISO  1hr     solar  1248.94   DAHR 2016-12-07 15:00:00+00:00\n",
       "2   CAISO  1hr      wind   337.11   DAHR 2016-12-07 18:00:00+00:00\n",
       "3   CAISO  1hr     solar  5557.67   DAHR 2016-12-07 18:00:00+00:00\n",
       "4   CAISO  1hr      wind   357.46   DAHR 2016-12-07 17:00:00+00:00"
      ]
     },
     "execution_count": 27,
     "metadata": {},
     "output_type": "execute_result"
    }
   ],
   "source": [
    "import datetime, pytz, arrow\n",
    "\n",
    "now = arrow.now()\n",
    "end_at = now\n",
    "start_at = now.replace(minutes=-600)\n",
    "\n",
    "data = caiso.get_generation(start_at= start_at, end_at=end_at)\n",
    "df = DataFrame(data)\n",
    "df.head()"
   ]
  },
  {
   "cell_type": "markdown",
   "metadata": {},
   "source": [
    "Next steps:  figure out whether how to relate the generation mix data with the average carbon emissions available from the Watttime API. "
   ]
  },
  {
   "cell_type": "code",
   "execution_count": null,
   "metadata": {
    "collapsed": true
   },
   "outputs": [],
   "source": []
  }
 ],
 "metadata": {
  "anaconda-cloud": {},
  "kernelspec": {
   "display_name": "Python [default]",
   "language": "python",
   "name": "python2"
  },
  "language_info": {
   "codemirror_mode": {
    "name": "ipython",
    "version": 2
   },
   "file_extension": ".py",
   "mimetype": "text/x-python",
   "name": "python",
   "nbconvert_exporter": "python",
   "pygments_lexer": "ipython2",
   "version": "2.7.12"
  }
 },
 "nbformat": 4,
 "nbformat_minor": 0
}
