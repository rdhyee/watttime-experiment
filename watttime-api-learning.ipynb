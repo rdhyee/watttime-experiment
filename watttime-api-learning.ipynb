{
 "cells": [
  {
   "cell_type": "code",
   "execution_count": 1,
   "metadata": {
    "collapsed": false
   },
   "outputs": [
    {
     "name": "stderr",
     "output_type": "stream",
     "text": [
      "/Users/raymondyee/anaconda/envs/myenv/lib/python2.7/site-packages/matplotlib/font_manager.py:273: UserWarning: Matplotlib is building the font cache using fc-list. This may take a moment.\n",
      "  warnings.warn('Matplotlib is building the font cache using fc-list. This may take a moment.')\n"
     ]
    }
   ],
   "source": [
    "%matplotlib inline"
   ]
  },
  {
   "cell_type": "code",
   "execution_count": 2,
   "metadata": {
    "collapsed": true
   },
   "outputs": [],
   "source": [
    "from settings import (WATTTIME_API_TOKEN, WATTTIME_USER, WATTTIME_PASSWORD)\n",
    "import requests\n",
    "import arrow, datetime\n",
    "\n",
    "import numpy as np\n",
    "import datetime as dt\n",
    "import time\n",
    "\n",
    "import matplotlib.pyplot as plt\n",
    "import matplotlib.dates as md\n",
    "\n",
    "import numpy as np\n",
    "import pandas as pd\n",
    "from pandas import DataFrame, Series"
   ]
  },
  {
   "cell_type": "markdown",
   "metadata": {},
   "source": [
    "# obtaining token"
   ]
  },
  {
   "cell_type": "code",
   "execution_count": 3,
   "metadata": {
    "collapsed": false
   },
   "outputs": [
    {
     "data": {
      "text/plain": [
       "True"
      ]
     },
     "execution_count": 3,
     "metadata": {},
     "output_type": "execute_result"
    }
   ],
   "source": [
    "# https://api.watttime.org/api/v1/obtain-token-auth/\n",
    "\n",
    "import urlparse\n",
    "\n",
    "def obtain_token(username, password):\n",
    "    \n",
    "    base_url = 'https://api.watttime.org'\n",
    "    endpoint = urlparse.urljoin(base_url, '/api/v1/obtain-token-auth/')\n",
    "    \n",
    "    payload = {'username': username, \n",
    "               'password': password\n",
    "             }\n",
    "\n",
    "    result = requests.post(endpoint, data=payload)\n",
    "    return result.json()\n",
    "\n",
    "( obtain_token(WATTTIME_USER, WATTTIME_PASSWORD).get('token')\n",
    "  ==\n",
    "  WATTTIME_API_TOKEN\n",
    ")"
   ]
  },
  {
   "cell_type": "markdown",
   "metadata": {},
   "source": [
    "# validating token"
   ]
  },
  {
   "cell_type": "code",
   "execution_count": 4,
   "metadata": {
    "collapsed": true
   },
   "outputs": [],
   "source": [
    "def validate_token (token):\n",
    "    \n",
    "    base_url = 'https://api.watttime.org'\n",
    "    endpoint = urlparse.urljoin(base_url, '/api/v1/datapoints/')\n",
    "    \n",
    "    headers = {\n",
    "        'Authorization': 'Token {}'.format(token)\n",
    "    }\n",
    "    \n",
    "    result = requests.head(endpoint, headers=headers)\n",
    "    return result.status_code == 200\n",
    "\n"
   ]
  },
  {
   "cell_type": "markdown",
   "metadata": {},
   "source": [
    "# balance authority\n",
    "\n",
    "```\n",
    "https://api.watttime.org/api/v1/balancing_authorities/?loc={\"type\":\"Point\",\"coordinates\":[-122.272778,37.871667]} \n",
    "```"
   ]
  },
  {
   "cell_type": "code",
   "execution_count": 5,
   "metadata": {
    "collapsed": true
   },
   "outputs": [],
   "source": [
    "import json\n",
    "\n",
    "def balance_authority(lat, lon):\n",
    "    \n",
    "    base_url = 'https://api.watttime.org'\n",
    "    endpoint = urlparse.urljoin(base_url, '/api/v1/balancing_authorities/')\n",
    "    \n",
    "    loc_info = json.dumps({\n",
    "            'type': 'Point',\n",
    "            'coordinates': [lon, lat]\n",
    "        })\n",
    "    \n",
    "    \n",
    "    params = {\n",
    "        'loc': loc_info\n",
    "    }\n",
    "    \n",
    "    result = requests.get(endpoint, params=params)\n",
    "    return result.json()\n"
   ]
  },
  {
   "cell_type": "code",
   "execution_count": 6,
   "metadata": {
    "collapsed": false
   },
   "outputs": [
    {
     "data": {
      "text/plain": [
       "[{u'abbrev': u'CAISO',\n",
       "  u'ba_type': u'ISO',\n",
       "  u'link': u'http://oasis.caiso.com/',\n",
       "  u'name': u'California Independent System Operator',\n",
       "  u'notes': u' ',\n",
       "  u'states': [u'CA'],\n",
       "  u'url': u'https://api.watttime.org/api/v1/balancing_authorities/CAISO/'}]"
      ]
     },
     "execution_count": 6,
     "metadata": {},
     "output_type": "execute_result"
    }
   ],
   "source": [
    "balance_authority(lat=37.871667, lon=-122.272778)"
   ]
  },
  {
   "cell_type": "markdown",
   "metadata": {},
   "source": [
    "# generation mix"
   ]
  },
  {
   "cell_type": "markdown",
   "metadata": {},
   "source": [
    "```\n",
    "ba\t\n",
    "An abbreviation for a balancing authority. Options can be found at the 'balancing_authorities' endpoint. e.g., ba=ISONE\tquery\tstring\n",
    "start_at\t\n",
    "Minimum timestamp (inclusive). e.g., start_at=2014-02-20 or start_at=2014-02-20T16:45:30-0800 or start_at=2014-02-20T16:45:30-08:00\tquery\tstring\n",
    "end_at\t\n",
    "Maximum timestamp (inclusive). e.g., end_at=2014-02-20 or end_at=2014-02-20T16:45:30-0800 or end_at=2014-02-20T16:45:30-08:00\tquery\tstring\n",
    "page_size\t\n",
    "Number of data points to return on each page. default is page_size=100, max is page_size=1000.\tquery\tinteger\n",
    "freq\t\n",
    "Time series frequency. Options are '5m', '10m', '1hr', 'n/a'. e.g., freq=1hr\tquery\tstring\n",
    "market\n",
    "```\n",
    "\n",
    "```\n",
    "ba filters by place (see tutorial)\n",
    "start_at and end_at filter by time (formatted like 2015-10-20T16:45:30-08:00)\n",
    "market filters by data type (use RT5M to get past data from the real-time 5 minute market, or DAHR to get forecasted data from the day-ahead hourly market)\n",
    "page_size sets the number of data points that are returned in a single query\n",
    "\n",
    "```"
   ]
  },
  {
   "cell_type": "code",
   "execution_count": 7,
   "metadata": {
    "collapsed": false
   },
   "outputs": [
    {
     "data": {
      "text/plain": [
       "'2016-10-26T04:00:21.240429+00:00'"
      ]
     },
     "execution_count": 7,
     "metadata": {},
     "output_type": "execute_result"
    }
   ],
   "source": [
    "arrow.get(datetime.datetime.utcnow()).isoformat()"
   ]
  },
  {
   "cell_type": "code",
   "execution_count": 8,
   "metadata": {
    "collapsed": false
   },
   "outputs": [],
   "source": [
    "def generation_mix(token, ba, start_at, end_at, page_size=100, market='RT5M', **kwargs):\n",
    "    \"\"\"\n",
    "    * ba filters by place (see tutorial)\n",
    "    * start_at and end_at filter by time (formatted like 2015-10-20T16:45:30-08:00)\n",
    "    * market filters by data type (use RT5M to get past data from the real-time 5 minute market, \n",
    "        or DAHR to get forecasted data from the day-ahead hourly market)\n",
    "    * page_size sets the number of data points that are returned in a single query\n",
    "    \"\"\"\n",
    "    base_url = 'https://api.watttime.org'\n",
    "    url = urlparse.urljoin(base_url, '/api/v1/datapoints/')\n",
    "    \n",
    "    headers = {\n",
    "        'Authorization': 'Token {}'.format(token)\n",
    "    }\n",
    "    \n",
    "    params = {\n",
    "        'ba': ba,\n",
    "        'start_at': arrow.get(start_at).isoformat(),\n",
    "        'end_at': arrow.get(end_at).isoformat(),\n",
    "        'page_size': page_size,\n",
    "        'market': market\n",
    "    }\n",
    "    \n",
    "    more_pages = True\n",
    "    \n",
    "    while more_pages:\n",
    "    \n",
    "        r = requests.get(url, params=params)\n",
    "        results = r.json()['results']\n",
    "        \n",
    "        for result in results:\n",
    "            yield result\n",
    "        \n",
    "        url = r.json()['next']\n",
    "        more_pages = url is not None\n",
    "    \n",
    "    "
   ]
  },
  {
   "cell_type": "code",
   "execution_count": 9,
   "metadata": {
    "collapsed": false
   },
   "outputs": [
    {
     "data": {
      "text/plain": [
       "<Arrow [2016-10-26T04:00:24.616006+00:00]>"
      ]
     },
     "execution_count": 9,
     "metadata": {},
     "output_type": "execute_result"
    }
   ],
   "source": [
    "arrow.utcnow()"
   ]
  },
  {
   "cell_type": "code",
   "execution_count": 10,
   "metadata": {
    "collapsed": false
   },
   "outputs": [
    {
     "data": {
      "text/plain": [
       "[{u'ba': u'CAISO',\n",
       "  u'carbon': 1427.46177370031,\n",
       "  u'created_at': u'2016-10-26T03:52:01.307615Z',\n",
       "  u'freq': u'10m',\n",
       "  u'genmix': [{u'fuel': u'other', u'gen_MW': 35008.5},\n",
       "   {u'fuel': u'wind', u'gen_MW': 250.0},\n",
       "   {u'fuel': u'renewable', u'gen_MW': 1529.0}],\n",
       "  u'market': u'RT5M',\n",
       "  u'timestamp': u'2016-10-26T03:50:00Z',\n",
       "  u'url': u'https://api.watttime.org/api/v1/datapoints/9254999/'}]"
      ]
     },
     "execution_count": 10,
     "metadata": {},
     "output_type": "execute_result"
    }
   ],
   "source": [
    "# some number of minutes before to now\n",
    "\n",
    "import datetime, pytz, arrow\n",
    "\n",
    "now = arrow.now()\n",
    "end_at = now\n",
    "start_at = now.replace(minutes=-6000)\n",
    "\n",
    "results = list(generation_mix(token = WATTTIME_API_TOKEN, ba='CAISO', start_at=start_at, end_at=end_at))\n",
    "results[:1]"
   ]
  },
  {
   "cell_type": "code",
   "execution_count": 11,
   "metadata": {
    "collapsed": false
   },
   "outputs": [],
   "source": [
    "# how to use django cache\n",
    "\n",
    "from django.core.cache.backends.locmem import LocMemCache\n",
    "cache = LocMemCache('rycache', {})"
   ]
  },
  {
   "cell_type": "code",
   "execution_count": 12,
   "metadata": {
    "collapsed": false
   },
   "outputs": [
    {
     "data": {
      "text/plain": [
       "585"
      ]
     },
     "execution_count": 12,
     "metadata": {},
     "output_type": "execute_result"
    }
   ],
   "source": [
    "results = sorted(results, key = lambda s: s['timestamp'], reverse=True)\n",
    "df = DataFrame(\n",
    "    [(arrow.get(result['timestamp']).datetime, result['carbon'])  for result in results],\n",
    "    columns = ['ts', 'carbon']\n",
    ")\n",
    "len(df)"
   ]
  },
  {
   "cell_type": "code",
   "execution_count": 13,
   "metadata": {
    "collapsed": false
   },
   "outputs": [
    {
     "data": {
      "text/plain": [
       "[<matplotlib.lines.Line2D at 0x105335e90>]"
      ]
     },
     "execution_count": 13,
     "metadata": {},
     "output_type": "execute_result"
    },
    {
     "data": {
      "image/png": "[encoded data removed]",
      "text/plain": [
       "<matplotlib.figure.Figure at 0x117b44590>"
      ]
     },
     "metadata": {},
     "output_type": "display_data"
    }
   ],
   "source": [
    "# http://stackoverflow.com/questions/4090383/plotting-unix-timestamps-in-matplotlib\n",
    "\n",
    "plt.subplots_adjust(bottom=0.2)\n",
    "plt.xticks( rotation=25 )\n",
    "ax=plt.gca()\n",
    "xfmt = md.DateFormatter('%Y-%m-%d %H:%M:%S')\n",
    "ax.xaxis.set_major_formatter(xfmt)\n",
    "\n",
    "\n",
    "plt.plot(df['ts'], df['carbon'])"
   ]
  },
  {
   "cell_type": "markdown",
   "metadata": {},
   "source": [
    "# Using the Client"
   ]
  },
  {
   "cell_type": "code",
   "execution_count": 14,
   "metadata": {
    "collapsed": false
   },
   "outputs": [],
   "source": [
    "from watttime_client.client import WattTimeAPI\n",
    "mytoken = WATTTIME_API_TOKEN\n",
    "client = WattTimeAPI(token=mytoken)"
   ]
  },
  {
   "cell_type": "code",
   "execution_count": 15,
   "metadata": {
    "collapsed": false
   },
   "outputs": [
    {
     "ename": "KeyError",
     "evalue": "'results'",
     "output_type": "error",
     "traceback": [
      "\u001b[0;31m---------------------------------------------------------------------------\u001b[0m",
      "\u001b[0;31mKeyError\u001b[0m                                  Traceback (most recent call last)",
      "\u001b[0;32m<ipython-input-15-b5e05a20d8f0>\u001b[0m in \u001b[0;36m<module>\u001b[0;34m()\u001b[0m\n\u001b[1;32m      3\u001b[0m \u001b[0;34m\u001b[0m\u001b[0m\n\u001b[1;32m      4\u001b[0m \u001b[0mtimestamp\u001b[0m \u001b[0;34m=\u001b[0m \u001b[0mpytz\u001b[0m\u001b[0;34m.\u001b[0m\u001b[0mutc\u001b[0m\u001b[0;34m.\u001b[0m\u001b[0mlocalize\u001b[0m\u001b[0;34m(\u001b[0m\u001b[0mdatetime\u001b[0m\u001b[0;34m(\u001b[0m\u001b[0;36m2016\u001b[0m\u001b[0;34m,\u001b[0m \u001b[0;36m6\u001b[0m\u001b[0;34m,\u001b[0m \u001b[0;36m1\u001b[0m\u001b[0;34m,\u001b[0m \u001b[0;36m12\u001b[0m\u001b[0;34m,\u001b[0m \u001b[0;36m30\u001b[0m\u001b[0;34m)\u001b[0m\u001b[0;34m)\u001b[0m\u001b[0;34m\u001b[0m\u001b[0m\n\u001b[0;32m----> 5\u001b[0;31m \u001b[0mvalue\u001b[0m \u001b[0;34m=\u001b[0m \u001b[0mclient\u001b[0m\u001b[0;34m.\u001b[0m\u001b[0mget_impact_at\u001b[0m\u001b[0;34m(\u001b[0m\u001b[0mtimestamp\u001b[0m\u001b[0;34m,\u001b[0m \u001b[0;34m'CAISO'\u001b[0m\u001b[0;34m)\u001b[0m\u001b[0;34m\u001b[0m\u001b[0m\n\u001b[0m\u001b[1;32m      6\u001b[0m \u001b[0;34m\u001b[0m\u001b[0m\n\u001b[1;32m      7\u001b[0m \u001b[0;32mprint\u001b[0m\u001b[0;34m(\u001b[0m\u001b[0mvalue\u001b[0m\u001b[0;34m)\u001b[0m\u001b[0;34m\u001b[0m\u001b[0m\n",
      "\u001b[0;32m/Users/raymondyee/anaconda/envs/myenv/lib/python2.7/site-packages/watttime_client-0.1-py2.7.egg/watttime_client/client.pyc\u001b[0m in \u001b[0;36mget_impact_at\u001b[0;34m(self, ts, ba, market)\u001b[0m\n\u001b[1;32m     94\u001b[0m \u001b[0;34m\u001b[0m\u001b[0m\n\u001b[1;32m     95\u001b[0m         \u001b[0;31m# if got here, no good data in cache, so fetch it\u001b[0m\u001b[0;34m\u001b[0m\u001b[0;34m\u001b[0m\u001b[0m\n\u001b[0;32m---> 96\u001b[0;31m         \u001b[0mtimes\u001b[0m\u001b[0;34m,\u001b[0m \u001b[0mvalues\u001b[0m \u001b[0;34m=\u001b[0m \u001b[0mself\u001b[0m\u001b[0;34m.\u001b[0m\u001b[0mfetch\u001b[0m\u001b[0;34m(\u001b[0m\u001b[0mts\u001b[0m \u001b[0;34m-\u001b[0m \u001b[0mtimedelta\u001b[0m\u001b[0;34m(\u001b[0m\u001b[0mhours\u001b[0m\u001b[0;34m=\u001b[0m\u001b[0;36m4\u001b[0m\u001b[0;34m)\u001b[0m\u001b[0;34m,\u001b[0m \u001b[0mts\u001b[0m \u001b[0;34m+\u001b[0m \u001b[0mtimedelta\u001b[0m\u001b[0;34m(\u001b[0m\u001b[0mhours\u001b[0m\u001b[0;34m=\u001b[0m\u001b[0;36m4\u001b[0m\u001b[0;34m)\u001b[0m\u001b[0;34m,\u001b[0m \u001b[0mba\u001b[0m\u001b[0;34m,\u001b[0m \u001b[0mmarket\u001b[0m\u001b[0;34m)\u001b[0m\u001b[0;34m\u001b[0m\u001b[0m\n\u001b[0m\u001b[1;32m     97\u001b[0m \u001b[0;34m\u001b[0m\u001b[0m\n\u001b[1;32m     98\u001b[0m         \u001b[0;31m# best value is latest time before or equal to ts\u001b[0m\u001b[0;34m\u001b[0m\u001b[0;34m\u001b[0m\u001b[0m\n",
      "\u001b[0;32m/Users/raymondyee/anaconda/envs/myenv/lib/python2.7/site-packages/watttime_client-0.1-py2.7.egg/watttime_client/client.pyc\u001b[0m in \u001b[0;36mfetch\u001b[0;34m(self, start_at, end_at, ba, market, **kwargs)\u001b[0m\n\u001b[1;32m     50\u001b[0m         result = requests.get('https://api.watttime.org/api/v1/marginal/',\n\u001b[1;32m     51\u001b[0m                               params=params, headers=self.auth_header)\n\u001b[0;32m---> 52\u001b[0;31m         \u001b[0mdata\u001b[0m \u001b[0;34m=\u001b[0m \u001b[0mresult\u001b[0m\u001b[0;34m.\u001b[0m\u001b[0mjson\u001b[0m\u001b[0;34m(\u001b[0m\u001b[0;34m)\u001b[0m\u001b[0;34m[\u001b[0m\u001b[0;34m'results'\u001b[0m\u001b[0;34m]\u001b[0m\u001b[0;34m\u001b[0m\u001b[0m\n\u001b[0m\u001b[1;32m     53\u001b[0m \u001b[0;34m\u001b[0m\u001b[0m\n\u001b[1;32m     54\u001b[0m         \u001b[0mn_pages\u001b[0m \u001b[0;34m=\u001b[0m \u001b[0;36m1\u001b[0m\u001b[0;34m\u001b[0m\u001b[0m\n",
      "\u001b[0;31mKeyError\u001b[0m: 'results'"
     ]
    }
   ],
   "source": [
    "from datetime import datetime\n",
    "import pytz\n",
    "\n",
    "timestamp = pytz.utc.localize(datetime(2016, 6, 1, 12, 30))\n",
    "value = client.get_impact_at(timestamp, 'CAISO')\n",
    "\n",
    "print(value)"
   ]
  },
  {
   "cell_type": "code",
   "execution_count": null,
   "metadata": {
    "collapsed": true
   },
   "outputs": [],
   "source": []
  }
 ],
 "metadata": {
  "kernelspec": {
   "display_name": "Python 2",
   "language": "python",
   "name": "python2"
  },
  "language_info": {
   "codemirror_mode": {
    "name": "ipython",
    "version": 2
   },
   "file_extension": ".py",
   "mimetype": "text/x-python",
   "name": "python",
   "nbconvert_exporter": "python",
   "pygments_lexer": "ipython2",
   "version": "2.7.12"
  }
 },
 "nbformat": 4,
 "nbformat_minor": 0
}
